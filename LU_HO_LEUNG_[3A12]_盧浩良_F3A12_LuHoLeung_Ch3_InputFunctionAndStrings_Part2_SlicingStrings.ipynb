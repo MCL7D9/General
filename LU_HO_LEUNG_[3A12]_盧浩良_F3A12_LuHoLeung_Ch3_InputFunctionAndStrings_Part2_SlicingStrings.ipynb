{
  "nbformat": 4,
  "nbformat_minor": 0,
  "metadata": {
    "colab": {
      "provenance": [],
      "include_colab_link": true
    },
    "kernelspec": {
      "name": "python3",
      "display_name": "Python 3"
    },
    "language_info": {
      "name": "python"
    }
  },
  "cells": [
    {
      "cell_type": "markdown",
      "metadata": {
        "id": "view-in-github",
        "colab_type": "text"
      },
      "source": [
        "<a href=\"https://colab.research.google.com/github/MCL7D9/General/blob/main/LU_HO_LEUNG_%5B3A12%5D_%E7%9B%A7%E6%B5%A9%E8%89%AF_F3A12_LuHoLeung_Ch3_InputFunctionAndStrings_Part2_SlicingStrings.ipynb\" target=\"_parent\"><img src=\"https://colab.research.google.com/assets/colab-badge.svg\" alt=\"Open In Colab\"/></a>"
      ]
    },
    {
      "cell_type": "code",
      "source": [
        "#Please fill in the information below:\n",
        "\n",
        "\n",
        "\n",
        "# Name: [                  Lu Ho Leung        ]\n",
        "# Class: [          3A       ]\n",
        "# Class Number: [    12                      ]\n"
      ],
      "metadata": {
        "id": "4RqS08Udkwil"
      },
      "execution_count": null,
      "outputs": []
    },
    {
      "cell_type": "markdown",
      "source": [
        "**Activity 3 - Step 02 (Ref.: Page 29 of your textbook)**\n",
        "\n",
        "Write a Python program to input the current year, the name of a person of his/her year of birth and output the age of that person.  The expected output is shown below:\n",
        "\n",
        "**Expected Output (Note: Data in italics are entered by user.)**\n",
        "\n",
        "What year is it? *2023*\n",
        "\n",
        "Enter a name: *Emma*\n",
        "\n",
        "Enter year of birth: *2009*\n",
        "\n",
        "Emma is 14 years old.\n",
        "\n",
        "Complete the missing part of the following program."
      ],
      "metadata": {
        "id": "T8elk_ehUzfz"
      }
    },
    {
      "cell_type": "code",
      "source": [
        "thisyear = int((input(\"What year is it? \")))\n",
        "name = string(\"Enter a name: \")\n",
        "birthyear = int(input(\"Enter year of birth: \"))\n",
        "print(?, 'is', thisyear-birthyear, 'years old.')"
      ],
      "metadata": {
        "id": "hW8IEzGLU4-F"
      },
      "execution_count": null,
      "outputs": []
    },
    {
      "cell_type": "markdown",
      "source": [
        "**Exercise Q6 - Calculate Area of Triangle**\n",
        "\n",
        "Modify the following program to accept two inputs from the user and calcuate the area of triangle."
      ],
      "metadata": {
        "id": "cP0NKcsUU8Zg"
      }
    },
    {
      "cell_type": "code",
      "source": [
        "base = ??(\"Enter base: \")\n",
        "height = ??(\"Enter height: \")\n",
        "print(??)"
      ],
      "metadata": {
        "id": "9QvBh1AZU-TG"
      },
      "execution_count": null,
      "outputs": []
    },
    {
      "cell_type": "markdown",
      "source": [
        "**Exercise Q7 - Calculate height**\n",
        "\n",
        "Modify the following Python program by accepting feet and inches from user and calculate the height in cm."
      ],
      "metadata": {
        "id": "UYsMYU5pU_84"
      }
    },
    {
      "cell_type": "code",
      "source": [
        "feet = ??(\"Enter height (feet): \")\n",
        "inches = ??(\"Enter height (inches): \")\n",
        "cm = ??\n",
        "print(??)"
      ],
      "metadata": {
        "id": "T_NDG1hhVCpp"
      },
      "execution_count": null,
      "outputs": []
    },
    {
      "cell_type": "markdown",
      "source": [
        "**Exercise Q8 - Convert a storage capacity in MB to GB**\n",
        "\n",
        "Complete the missing parts of the following Python program for converting a storage capacity in MB to GB."
      ],
      "metadata": {
        "id": "a7YwZ5juVDsE"
      }
    },
    {
      "cell_type": "code",
      "source": [
        "print(??)\n",
        "storage = ??\n",
        "print(\"Storage in GB:\"??)\n"
      ],
      "metadata": {
        "id": "5SuLUjpWVGCk"
      },
      "execution_count": null,
      "outputs": []
    },
    {
      "cell_type": "markdown",
      "source": [
        "**Activity 4 - Slicing a string**\n",
        "\n",
        "Complete ?? parts in the following block of code and then execute the program.  Write down the results in page 30 of your textbook."
      ],
      "metadata": {
        "id": "y3AQq1nOk2Ck"
      }
    },
    {
      "cell_type": "code",
      "source": [
        "greet = 'Hello world!'\n",
        "print(greet[0:5])\n",
        "print(greet??:??])\n",
        "print(greet[??])\n",
        "print(greet??)"
      ],
      "metadata": {
        "colab": {
          "base_uri": "https://localhost:8080/"
        },
        "id": "CDVCehHHwrzl",
        "outputId": "89464ceb-4455-498e-c78e-bcf9384441b3"
      },
      "execution_count": null,
      "outputs": [
        {
          "output_type": "stream",
          "name": "stdout",
          "text": [
            "Hello\n"
          ]
        }
      ]
    },
    {
      "cell_type": "markdown",
      "source": [
        "**Activity 5 - Slicing and finding length of a string**\n",
        "\n",
        "Complete ?? parts in the following block of code and then execute the program.  Write down the results in page 32 of your textbook."
      ],
      "metadata": {
        "id": "ahtz4ChFQiKV"
      }
    },
    {
      "cell_type": "code",
      "source": [
        "# Procedure 1\n",
        "quote = 'Simple is better than complex.'\n",
        "\n",
        "print(quote[??])                 # print word Simple\n",
        "print(quote[??])                 # print word is\n",
        "print(quote[??])                 # print word better\n",
        "print(quote[??])                 # print word than\n",
        "print(quote[??])                 # print word with the punctuation mark, i.e. complex."
      ],
      "metadata": {
        "id": "3s0ln4V-QhFE"
      },
      "execution_count": null,
      "outputs": []
    },
    {
      "cell_type": "code",
      "source": [
        "# Procedure 2\n",
        "\n",
        "expression = '1 + 2 = 3'\n",
        "letters = 'ABCDEFG'\n",
        "\n",
        "print(len(expression))\n",
        "print(??(letters))\n",
        "print(len(??))\n",
        "print(len(expression[??]))\n",
        "print(len(letters??))"
      ],
      "metadata": {
        "id": "5dfpL_fNRBf3"
      },
      "execution_count": null,
      "outputs": []
    },
    {
      "cell_type": "markdown",
      "source": [
        "**Exercise Q9 - Slicing strings **\n",
        "\n",
        "Complete the missing parts of the following Python program for slicing strings alternatively."
      ],
      "metadata": {
        "id": "ITm25xnysPhn"
      }
    },
    {
      "cell_type": "code",
      "source": [
        "# Example 1 (Can run this program directly without any modification)\n",
        "\n",
        "number = '0123456789'\n",
        "print(number[0:10:2])                      # starts from index 0, up to 10-1 = 9, increased by 2 each time\n",
        "print(number[1:10:2])                      # starts from index 1, up to 10-1 = 9, increased by 2 each time\n",
        "\n",
        "print(number[0::2])                      # starts from index 0, up to 10-1 = 9, increased by 2 each time, result same as line 4\n",
        "print(number[1::2])                      # starts from index 1, up to 10-1 = 9, increased by 2 each time, result same as line 5"
      ],
      "metadata": {
        "id": "tXoK128msekE"
      },
      "execution_count": null,
      "outputs": []
    },
    {
      "cell_type": "code",
      "source": [
        "# Question 9 - printing the alternative characters of the merged fruit names, starting from index 0\n",
        "\n",
        "fruit1 = input(\"Enter fruit name 1: \")\n",
        "fruit2 = input(\"Enter fruit name 2: \")\n",
        "mix = ?? + ??\n",
        "print(mix[??::??])\n"
      ],
      "metadata": {
        "id": "Z9q0vCqzS8w7"
      },
      "execution_count": null,
      "outputs": []
    }
  ]
}